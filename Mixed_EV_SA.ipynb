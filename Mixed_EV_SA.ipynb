{
 "cells": [
  {
   "cell_type": "markdown",
   "metadata": {},
   "source": [
    "# Mixed EV/GV Static Assignment"
   ]
  },
  {
   "cell_type": "markdown",
   "metadata": {},
   "source": [
    "This notebook displays a variation of a two-route static DUE, with each route having a fast charging facility for EV's. \n",
    "\n",
    "Assumptions:\n",
    "+ The routes will be modelled as hypernetwork. With the generalised cost of charging is displayed by fictuous links, representing: charging time, charging cost and queueing time (may or may not be fixed ?).\n",
    "+ There is a pre-determined mix of traffic (EV vs GV)"
   ]
  },
  {
   "cell_type": "markdown",
   "metadata": {},
   "source": [
    "## 1. Fixed Parameters"
   ]
  },
  {
   "cell_type": "code",
   "execution_count": 9,
   "metadata": {},
   "outputs": [],
   "source": [
    "#This is where the fixed parameters will be defined, such as\n",
    "# - demand and vehicle mix\n",
    "# - fixed costs of links\n",
    "# - link-path incidence for both vehicle classes\n",
    "# - link/path cost vectors, link/path flow vectors"
   ]
  },
  {
   "cell_type": "markdown",
   "metadata": {},
   "source": [
    "## 2. Functions"
   ]
  },
  {
   "cell_type": "code",
   "execution_count": null,
   "metadata": {},
   "outputs": [],
   "source": [
    "#Functions to include\n",
    "# - Cost given path flow split (default input split: 1-0)\n",
    "# - Path flow split given cost \n",
    "# - Graph?"
   ]
  }
 ],
 "metadata": {
  "kernelspec": {
   "display_name": "Python 3",
   "language": "python",
   "name": "python3"
  },
  "language_info": {
   "codemirror_mode": {
    "name": "ipython",
    "version": 3
   },
   "file_extension": ".py",
   "mimetype": "text/x-python",
   "name": "python",
   "nbconvert_exporter": "python",
   "pygments_lexer": "ipython3",
   "version": "3.7.9"
  }
 },
 "nbformat": 4,
 "nbformat_minor": 4
}
